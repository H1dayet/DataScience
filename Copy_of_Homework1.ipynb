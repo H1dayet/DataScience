{
  "nbformat": 4,
  "nbformat_minor": 0,
  "metadata": {
    "colab": {
      "name": "Copy of Homework1.ipynb",
      "provenance": [],
      "collapsed_sections": [],
      "include_colab_link": true
    },
    "kernelspec": {
      "name": "python3",
      "display_name": "Python 3"
    },
    "language_info": {
      "name": "python"
    }
  },
  "cells": [
    {
      "cell_type": "markdown",
      "metadata": {
        "id": "view-in-github",
        "colab_type": "text"
      },
      "source": [
        "<a href=\"https://colab.research.google.com/github/H1dayet/DataScience/blob/main/Copy_of_Homework1.ipynb\" target=\"_parent\"><img src=\"https://colab.research.google.com/assets/colab-badge.svg\" alt=\"Open In Colab\"/></a>"
      ]
    },
    {
      "cell_type": "code",
      "execution_count": null,
      "metadata": {
        "id": "jrVeHsm1rpdT",
        "colab": {
          "base_uri": "https://localhost:8080/"
        },
        "outputId": "aa213961-d4ad-47b5-bb4d-ee76fd52e15c"
      },
      "outputs": [
        {
          "output_type": "stream",
          "name": "stdout",
          "text": [
            "What is your name? Hulisi\n",
            "What is your age? 43\n",
            "Your name is  Hulisi. Your age is  43\n"
          ]
        }
      ],
      "source": [
        "#Q1-Get your name and age as input and print it in the form like\n",
        "#Your name is Hulisi. Your age is 43\n",
        "#Hint:Convert age into sting with str\n",
        "name=input('What is your name?')\n",
        "age=input('What is your age?')\n",
        "print('Your name is '+name+'. Your age is '+age)"
      ]
    },
    {
      "cell_type": "code",
      "source": [
        "#Q2-Write a if statement for a given two number is equal or not\n",
        "a=43\n",
        "b=54\n",
        "if(a==b):\n",
        "  print(\"a and b are equal\")\n",
        "else:\n",
        "  print(\"a and b are not equal \")"
      ],
      "metadata": {
        "id": "7Sfg03_PuVWa",
        "colab": {
          "base_uri": "https://localhost:8080/"
        },
        "outputId": "81097658-722a-4273-e8f2-4d77466046db"
      },
      "execution_count": null,
      "outputs": [
        {
          "output_type": "stream",
          "name": "stdout",
          "text": [
            "a and b are not equal \n"
          ]
        }
      ]
    },
    {
      "cell_type": "code",
      "source": [
        "#Q3-Write a if statement for first number is greater (a), equal or less than second number.(b)\n",
        "a=43\n",
        "b=54\n",
        "if(a>b):\n",
        "  print(\"a is greater than b\")\n",
        "elif(a==b):\n",
        "  print(\"a and b are equal\")\n",
        "else:\n",
        "  print(\"a is less than b\")\n"
      ],
      "metadata": {
        "id": "NtUibZ07u5gs",
        "colab": {
          "base_uri": "https://localhost:8080/"
        },
        "outputId": "bdc7fb29-1ca0-433e-e737-81ad2bb5cc24"
      },
      "execution_count": null,
      "outputs": [
        {
          "output_type": "stream",
          "name": "stdout",
          "text": [
            "a is less than b\n"
          ]
        }
      ]
    },
    {
      "cell_type": "code",
      "source": [
        "#Q4- Using for loop, print 1,2,3,4,5\n",
        "for k in range(1,6):\n",
        "    print(k)"
      ],
      "metadata": {
        "id": "U1UMQv36wNHP",
        "colab": {
          "base_uri": "https://localhost:8080/"
        },
        "outputId": "fd06c178-876f-4e47-d4ea-37a41c82127a"
      },
      "execution_count": null,
      "outputs": [
        {
          "output_type": "stream",
          "name": "stdout",
          "text": [
            "1\n",
            "2\n",
            "3\n",
            "4\n",
            "5\n"
          ]
        }
      ]
    },
    {
      "cell_type": "code",
      "source": [
        "#Q5-Using while loop, print 5,4,3,2,1\n",
        "for k in range(5,0,-1):\n",
        "    print(k)"
      ],
      "metadata": {
        "id": "bh5Lga7XxGY8",
        "colab": {
          "base_uri": "https://localhost:8080/"
        },
        "outputId": "05e6a1d2-7ec6-497c-cc2a-27231cab644a"
      },
      "execution_count": null,
      "outputs": [
        {
          "output_type": "stream",
          "name": "stdout",
          "text": [
            "5\n",
            "4\n",
            "3\n",
            "2\n",
            "1\n"
          ]
        }
      ]
    },
    {
      "cell_type": "code",
      "source": [
        "#Q6- Using for loop, print 10,6,4,2,0\n",
        "#Hint Print if number is not equal to 8.\n",
        "for k in range(10,-1,-2):\n",
        "  if k!=8:\n",
        "    print(k)"
      ],
      "metadata": {
        "id": "cXTTDS49xSoi",
        "colab": {
          "base_uri": "https://localhost:8080/"
        },
        "outputId": "6c87248a-8510-4538-dccb-1d6b86e78079"
      },
      "execution_count": null,
      "outputs": [
        {
          "output_type": "stream",
          "name": "stdout",
          "text": [
            "10\n",
            "6\n",
            "4\n",
            "2\n",
            "0\n"
          ]
        }
      ]
    },
    {
      "cell_type": "code",
      "source": [
        "#Q7-Write a method to calculate age for a given date of birth year.\n",
        "#Use this method in order to calculate age of person if date of birth is 1944\n",
        "# if age is the name of function, print(age(1944))\n",
        "\n",
        "print(\"Welcome to age calculator\")\n",
        "x=int(input(\"Please enter your birth year :\\n\"))\n",
        "def calc(x=x, y=2022):\n",
        "    return y-x\n",
        "print(calc())\n",
        "\n",
        "\n",
        "\n"
      ],
      "metadata": {
        "id": "geUjb-vuyYbF",
        "colab": {
          "base_uri": "https://localhost:8080/"
        },
        "outputId": "d1eb8d57-4a79-4796-d1f0-72491fd8ee2d"
      },
      "execution_count": 1,
      "outputs": [
        {
          "output_type": "stream",
          "name": "stdout",
          "text": [
            "Welcome to age calculator\n",
            "Please enter your birth year :\n",
            "2000\n",
            "22\n"
          ]
        }
      ]
    },
    {
      "cell_type": "code",
      "source": [
        "#Q8-Write a class named arithmetic with method for calculating addition, substraction, multiplication and division of two numbers.\n",
        "num1 = int(input(\"❯ Enter The First Number: \"))\n",
        "operator = (input(\"❯ Enter '+', '-', '*' or '/' \"))\n",
        "num2 = int(input(\"❯ Enter The Second Number: \"))\n",
        "if operator == '+':\n",
        "    answer = num1 + num2\n",
        "if operator == '-':\n",
        "    answer = num1 - num2 \n",
        "if operator == '*':\n",
        "    answer = num1 * num2\n",
        "if operator == '/':\n",
        "    answer = num1 / num2\n",
        "print(\"❯ The Answer Is \" + str(answer))  "
      ],
      "metadata": {
        "id": "YcyFzE3fzC7_",
        "colab": {
          "base_uri": "https://localhost:8080/"
        },
        "outputId": "e9e29cc4-1d17-498e-ee51-8cf77bea44cf"
      },
      "execution_count": 2,
      "outputs": [
        {
          "output_type": "stream",
          "name": "stdout",
          "text": [
            "❯ Enter The First Number: 31\n",
            "❯ Enter '+', '-', '*' or '/' +\n",
            "❯ Enter The Second Number: 69\n",
            "❯ The Answer Is 100\n"
          ]
        }
      ]
    },
    {
      "cell_type": "code",
      "source": [
        "#Q9- write a for loop or method  to calculate summation of first n numbers\n",
        "#i.e if n=3, it will print or return 6 (1+2+3)\n",
        "n = int(input(\"Enter number\"))\n",
        "sum = 0\n",
        "# loop from 1 to n\n",
        "for num in range(1, n + 1, 1):\n",
        "    sum = sum + num\n",
        "print(\"Sum of first \", n, \"numbers is: \", sum)"
      ],
      "metadata": {
        "id": "AUJWr5YqzadI",
        "colab": {
          "base_uri": "https://localhost:8080/"
        },
        "outputId": "70417a92-6eac-42da-9874-953dfe37e462"
      },
      "execution_count": 3,
      "outputs": [
        {
          "output_type": "stream",
          "name": "stdout",
          "text": [
            "Enter number3\n",
            "Sum of first  3 numbers is:  6\n"
          ]
        }
      ]
    },
    {
      "cell_type": "code",
      "source": [
        "#Q10-Generate 10 numbers between 0 and 1 and add into list. Print first three elements of that list. \n",
        "import numpy as np\n",
        "k=np.random.rand(1,10)\n",
        "k\n",
        "list=['0.60426515', '0.89324945', '0.62851729', '0.25652365', '0.36959345',\n",
        "        '0.23005017', '0.87932625', '0.42085905', '0.5088697', '0.24404265']\n",
        "print(list[:3])\n"
      ],
      "metadata": {
        "id": "hmtvJdCL02qx",
        "colab": {
          "base_uri": "https://localhost:8080/"
        },
        "outputId": "0715f8a9-1db6-454e-d824-85929d2c7a23"
      },
      "execution_count": null,
      "outputs": [
        {
          "output_type": "stream",
          "name": "stdout",
          "text": [
            "['0.60426515', '0.89324945', '0.62851729']\n"
          ]
        }
      ]
    }
  ]
}