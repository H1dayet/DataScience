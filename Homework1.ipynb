{
  "nbformat": 4,
  "nbformat_minor": 0,
  "metadata": {
    "colab": {
      "name": "Copy of Homework1.ipynb",
      "provenance": [],
      "collapsed_sections": [],
      "include_colab_link": true
    },
    "kernelspec": {
      "name": "python3",
      "display_name": "Python 3"
    },
    "language_info": {
      "name": "python"
    }
  },
  "cells": [
    {
      "cell_type": "markdown",
      "metadata": {
        "id": "view-in-github",
        "colab_type": "text"
      },
      "source": [
        "<a href=\"https://colab.research.google.com/github/H1dayet/DataScience/blob/main/Homework1.ipynb\" target=\"_parent\"><img src=\"https://colab.research.google.com/assets/colab-badge.svg\" alt=\"Open In Colab\"/></a>"
      ]
    },
    {
      "cell_type": "code",
      "execution_count": 1,
      "metadata": {
        "id": "jrVeHsm1rpdT",
        "colab": {
          "base_uri": "https://localhost:8080/"
        },
        "outputId": "2b5e6ff8-39e4-42c4-def8-e512e77935c0"
      },
      "outputs": [
        {
          "output_type": "stream",
          "name": "stdout",
          "text": [
            "What is your name?Hulisi\n",
            "What is your age?43\n",
            "Your name is Hulisi. Your age is 43\n"
          ]
        }
      ],
      "source": [
        "#Q1-Get your name and age as input and print it in the form like\n",
        "#Your name is Hulisi. Your age is 43\n",
        "#Hint:Convert age into sting with str\n",
        "name=input('What is your name?')\n",
        "age=input('What is your age?')\n",
        "print('Your name is '+name+'. Your age is '+age)"
      ]
    },
    {
      "cell_type": "code",
      "source": [
        "#Q2-Write a if statement for a given two number is equal or not\n",
        "a=43\n",
        "b=54\n"
      ],
      "metadata": {
        "id": "7Sfg03_PuVWa"
      },
      "execution_count": null,
      "outputs": []
    },
    {
      "cell_type": "code",
      "source": [
        "#Q3-Write a if statement for first number is greater (a), equal or less than second number.(b)\n",
        "a=43\n",
        "b=54\n"
      ],
      "metadata": {
        "id": "NtUibZ07u5gs"
      },
      "execution_count": null,
      "outputs": []
    },
    {
      "cell_type": "code",
      "source": [
        "#Q4- Using for loop, print 1,2,3,4,5\n",
        "for k in range():"
      ],
      "metadata": {
        "id": "U1UMQv36wNHP"
      },
      "execution_count": null,
      "outputs": []
    },
    {
      "cell_type": "code",
      "source": [
        "#Q5-Using while loop, print 5,4,3,2,1"
      ],
      "metadata": {
        "id": "bh5Lga7XxGY8"
      },
      "execution_count": null,
      "outputs": []
    },
    {
      "cell_type": "code",
      "source": [
        "#Q6- Using for loop, print 10,6,4,2,0\n",
        "#Hint Print if number is not equal to 8."
      ],
      "metadata": {
        "id": "cXTTDS49xSoi"
      },
      "execution_count": null,
      "outputs": []
    },
    {
      "cell_type": "code",
      "source": [
        "#Q7-Write a method to calculate age for a given date of birth year.\n",
        "#Use this method on orer to calculate age of person if date of birth is 1944\n",
        "# if age is the name of function, print(age(1944))\n",
        "\n",
        "\n"
      ],
      "metadata": {
        "id": "geUjb-vuyYbF"
      },
      "execution_count": null,
      "outputs": []
    },
    {
      "cell_type": "code",
      "source": [
        "#Q8-Write a class named arithmetic with method for calculating addition, substraction, multiplication and division of two numbers."
      ],
      "metadata": {
        "id": "YcyFzE3fzC7_"
      },
      "execution_count": null,
      "outputs": []
    },
    {
      "cell_type": "code",
      "source": [
        "#Q9- write a for loop or method  to calculate summation of first n numbers\n",
        "#i.e if n=3, it will print or return 6 (1+2+3)"
      ],
      "metadata": {
        "id": "AUJWr5YqzadI"
      },
      "execution_count": null,
      "outputs": []
    },
    {
      "cell_type": "code",
      "source": [
        "#Q10-Generate 10 numbers between 0 and 1 and add into list. Print first three elements of that list. "
      ],
      "metadata": {
        "id": "hmtvJdCL02qx"
      },
      "execution_count": null,
      "outputs": []
    }
  ]
}